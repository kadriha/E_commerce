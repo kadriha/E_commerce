{
 "cells": [
  {
   "cell_type": "code",
   "execution_count": 1,
   "id": "ae31b4e9",
   "metadata": {},
   "outputs": [],
   "source": [
    "import pandas as pd\n",
    "import numpy as np\n",
    "import matplotlib.pyplot as plt\n",
    "import seaborn as sns\n",
    "import datetime as dt\n",
    "import warnings \n",
    "warnings.filterwarnings('ignore')"
   ]
  },
  {
   "cell_type": "code",
   "execution_count": 2,
   "id": "7666b70c",
   "metadata": {},
   "outputs": [
    {
     "data": {
      "text/html": [
       "<div>\n",
       "<style scoped>\n",
       "    .dataframe tbody tr th:only-of-type {\n",
       "        vertical-align: middle;\n",
       "    }\n",
       "\n",
       "    .dataframe tbody tr th {\n",
       "        vertical-align: top;\n",
       "    }\n",
       "\n",
       "    .dataframe thead th {\n",
       "        text-align: right;\n",
       "    }\n",
       "</style>\n",
       "<table border=\"1\" class=\"dataframe\">\n",
       "  <thead>\n",
       "    <tr style=\"text-align: right;\">\n",
       "      <th></th>\n",
       "      <th>ID</th>\n",
       "      <th>Warehouse_block</th>\n",
       "      <th>Mode_of_Shipment</th>\n",
       "      <th>Customer_care_calls</th>\n",
       "      <th>Customer_rating</th>\n",
       "      <th>Cost_of_the_Product</th>\n",
       "      <th>Prior_purchases</th>\n",
       "      <th>Product_importance</th>\n",
       "      <th>Gender</th>\n",
       "      <th>Discount_offered</th>\n",
       "      <th>Weight_in_gms</th>\n",
       "      <th>Reached.on.Time_Y.N</th>\n",
       "    </tr>\n",
       "  </thead>\n",
       "  <tbody>\n",
       "    <tr>\n",
       "      <th>0</th>\n",
       "      <td>1</td>\n",
       "      <td>D</td>\n",
       "      <td>Flight</td>\n",
       "      <td>4</td>\n",
       "      <td>2</td>\n",
       "      <td>177</td>\n",
       "      <td>3</td>\n",
       "      <td>low</td>\n",
       "      <td>F</td>\n",
       "      <td>44</td>\n",
       "      <td>1233</td>\n",
       "      <td>1</td>\n",
       "    </tr>\n",
       "    <tr>\n",
       "      <th>1</th>\n",
       "      <td>2</td>\n",
       "      <td>F</td>\n",
       "      <td>Flight</td>\n",
       "      <td>4</td>\n",
       "      <td>5</td>\n",
       "      <td>216</td>\n",
       "      <td>2</td>\n",
       "      <td>low</td>\n",
       "      <td>M</td>\n",
       "      <td>59</td>\n",
       "      <td>3088</td>\n",
       "      <td>1</td>\n",
       "    </tr>\n",
       "    <tr>\n",
       "      <th>2</th>\n",
       "      <td>3</td>\n",
       "      <td>A</td>\n",
       "      <td>Flight</td>\n",
       "      <td>2</td>\n",
       "      <td>2</td>\n",
       "      <td>183</td>\n",
       "      <td>4</td>\n",
       "      <td>low</td>\n",
       "      <td>M</td>\n",
       "      <td>48</td>\n",
       "      <td>3374</td>\n",
       "      <td>1</td>\n",
       "    </tr>\n",
       "    <tr>\n",
       "      <th>3</th>\n",
       "      <td>4</td>\n",
       "      <td>B</td>\n",
       "      <td>Flight</td>\n",
       "      <td>3</td>\n",
       "      <td>3</td>\n",
       "      <td>176</td>\n",
       "      <td>4</td>\n",
       "      <td>medium</td>\n",
       "      <td>M</td>\n",
       "      <td>10</td>\n",
       "      <td>1177</td>\n",
       "      <td>1</td>\n",
       "    </tr>\n",
       "    <tr>\n",
       "      <th>4</th>\n",
       "      <td>5</td>\n",
       "      <td>C</td>\n",
       "      <td>Flight</td>\n",
       "      <td>2</td>\n",
       "      <td>2</td>\n",
       "      <td>184</td>\n",
       "      <td>3</td>\n",
       "      <td>medium</td>\n",
       "      <td>F</td>\n",
       "      <td>46</td>\n",
       "      <td>2484</td>\n",
       "      <td>1</td>\n",
       "    </tr>\n",
       "    <tr>\n",
       "      <th>...</th>\n",
       "      <td>...</td>\n",
       "      <td>...</td>\n",
       "      <td>...</td>\n",
       "      <td>...</td>\n",
       "      <td>...</td>\n",
       "      <td>...</td>\n",
       "      <td>...</td>\n",
       "      <td>...</td>\n",
       "      <td>...</td>\n",
       "      <td>...</td>\n",
       "      <td>...</td>\n",
       "      <td>...</td>\n",
       "    </tr>\n",
       "    <tr>\n",
       "      <th>10994</th>\n",
       "      <td>10995</td>\n",
       "      <td>A</td>\n",
       "      <td>Ship</td>\n",
       "      <td>4</td>\n",
       "      <td>1</td>\n",
       "      <td>252</td>\n",
       "      <td>5</td>\n",
       "      <td>medium</td>\n",
       "      <td>F</td>\n",
       "      <td>1</td>\n",
       "      <td>1538</td>\n",
       "      <td>1</td>\n",
       "    </tr>\n",
       "    <tr>\n",
       "      <th>10995</th>\n",
       "      <td>10996</td>\n",
       "      <td>B</td>\n",
       "      <td>Ship</td>\n",
       "      <td>4</td>\n",
       "      <td>1</td>\n",
       "      <td>232</td>\n",
       "      <td>5</td>\n",
       "      <td>medium</td>\n",
       "      <td>F</td>\n",
       "      <td>6</td>\n",
       "      <td>1247</td>\n",
       "      <td>0</td>\n",
       "    </tr>\n",
       "    <tr>\n",
       "      <th>10996</th>\n",
       "      <td>10997</td>\n",
       "      <td>C</td>\n",
       "      <td>Ship</td>\n",
       "      <td>5</td>\n",
       "      <td>4</td>\n",
       "      <td>242</td>\n",
       "      <td>5</td>\n",
       "      <td>low</td>\n",
       "      <td>F</td>\n",
       "      <td>4</td>\n",
       "      <td>1155</td>\n",
       "      <td>0</td>\n",
       "    </tr>\n",
       "    <tr>\n",
       "      <th>10997</th>\n",
       "      <td>10998</td>\n",
       "      <td>F</td>\n",
       "      <td>Ship</td>\n",
       "      <td>5</td>\n",
       "      <td>2</td>\n",
       "      <td>223</td>\n",
       "      <td>6</td>\n",
       "      <td>medium</td>\n",
       "      <td>M</td>\n",
       "      <td>2</td>\n",
       "      <td>1210</td>\n",
       "      <td>0</td>\n",
       "    </tr>\n",
       "    <tr>\n",
       "      <th>10998</th>\n",
       "      <td>10999</td>\n",
       "      <td>D</td>\n",
       "      <td>Ship</td>\n",
       "      <td>2</td>\n",
       "      <td>5</td>\n",
       "      <td>155</td>\n",
       "      <td>5</td>\n",
       "      <td>low</td>\n",
       "      <td>F</td>\n",
       "      <td>6</td>\n",
       "      <td>1639</td>\n",
       "      <td>0</td>\n",
       "    </tr>\n",
       "  </tbody>\n",
       "</table>\n",
       "<p>10999 rows × 12 columns</p>\n",
       "</div>"
      ],
      "text/plain": [
       "          ID Warehouse_block Mode_of_Shipment  Customer_care_calls  \\\n",
       "0          1               D           Flight                    4   \n",
       "1          2               F           Flight                    4   \n",
       "2          3               A           Flight                    2   \n",
       "3          4               B           Flight                    3   \n",
       "4          5               C           Flight                    2   \n",
       "...      ...             ...              ...                  ...   \n",
       "10994  10995               A             Ship                    4   \n",
       "10995  10996               B             Ship                    4   \n",
       "10996  10997               C             Ship                    5   \n",
       "10997  10998               F             Ship                    5   \n",
       "10998  10999               D             Ship                    2   \n",
       "\n",
       "       Customer_rating  Cost_of_the_Product  Prior_purchases  \\\n",
       "0                    2                  177                3   \n",
       "1                    5                  216                2   \n",
       "2                    2                  183                4   \n",
       "3                    3                  176                4   \n",
       "4                    2                  184                3   \n",
       "...                ...                  ...              ...   \n",
       "10994                1                  252                5   \n",
       "10995                1                  232                5   \n",
       "10996                4                  242                5   \n",
       "10997                2                  223                6   \n",
       "10998                5                  155                5   \n",
       "\n",
       "      Product_importance Gender  Discount_offered  Weight_in_gms  \\\n",
       "0                    low      F                44           1233   \n",
       "1                    low      M                59           3088   \n",
       "2                    low      M                48           3374   \n",
       "3                 medium      M                10           1177   \n",
       "4                 medium      F                46           2484   \n",
       "...                  ...    ...               ...            ...   \n",
       "10994             medium      F                 1           1538   \n",
       "10995             medium      F                 6           1247   \n",
       "10996                low      F                 4           1155   \n",
       "10997             medium      M                 2           1210   \n",
       "10998                low      F                 6           1639   \n",
       "\n",
       "       Reached.on.Time_Y.N  \n",
       "0                        1  \n",
       "1                        1  \n",
       "2                        1  \n",
       "3                        1  \n",
       "4                        1  \n",
       "...                    ...  \n",
       "10994                    1  \n",
       "10995                    0  \n",
       "10996                    0  \n",
       "10997                    0  \n",
       "10998                    0  \n",
       "\n",
       "[10999 rows x 12 columns]"
      ]
     },
     "execution_count": 2,
     "metadata": {},
     "output_type": "execute_result"
    }
   ],
   "source": [
    "df = pd.read_csv('shipping.csv')\n",
    "df"
   ]
  },
  {
   "cell_type": "code",
   "execution_count": 18,
   "id": "92761083",
   "metadata": {},
   "outputs": [
    {
     "data": {
      "text/html": [
       "<div>\n",
       "<style scoped>\n",
       "    .dataframe tbody tr th:only-of-type {\n",
       "        vertical-align: middle;\n",
       "    }\n",
       "\n",
       "    .dataframe tbody tr th {\n",
       "        vertical-align: top;\n",
       "    }\n",
       "\n",
       "    .dataframe thead th {\n",
       "        text-align: right;\n",
       "    }\n",
       "</style>\n",
       "<table border=\"1\" class=\"dataframe\">\n",
       "  <thead>\n",
       "    <tr style=\"text-align: right;\">\n",
       "      <th></th>\n",
       "      <th>ID</th>\n",
       "      <th>Customer_care_calls</th>\n",
       "      <th>Customer_rating</th>\n",
       "      <th>Cost_of_the_Product</th>\n",
       "      <th>Prior_purchases</th>\n",
       "      <th>Discount_offered</th>\n",
       "      <th>Weight_in_gms</th>\n",
       "      <th>Reached.on.Time_Y.N</th>\n",
       "    </tr>\n",
       "  </thead>\n",
       "  <tbody>\n",
       "    <tr>\n",
       "      <th>count</th>\n",
       "      <td>10999.00000</td>\n",
       "      <td>10999.000000</td>\n",
       "      <td>10999.000000</td>\n",
       "      <td>10999.000000</td>\n",
       "      <td>10999.000000</td>\n",
       "      <td>10999.000000</td>\n",
       "      <td>10999.000000</td>\n",
       "      <td>10999.000000</td>\n",
       "    </tr>\n",
       "    <tr>\n",
       "      <th>mean</th>\n",
       "      <td>5500.00000</td>\n",
       "      <td>4.054459</td>\n",
       "      <td>2.990545</td>\n",
       "      <td>210.196836</td>\n",
       "      <td>3.567597</td>\n",
       "      <td>13.373216</td>\n",
       "      <td>3634.016729</td>\n",
       "      <td>0.596691</td>\n",
       "    </tr>\n",
       "    <tr>\n",
       "      <th>std</th>\n",
       "      <td>3175.28214</td>\n",
       "      <td>1.141490</td>\n",
       "      <td>1.413603</td>\n",
       "      <td>48.063272</td>\n",
       "      <td>1.522860</td>\n",
       "      <td>16.205527</td>\n",
       "      <td>1635.377251</td>\n",
       "      <td>0.490584</td>\n",
       "    </tr>\n",
       "    <tr>\n",
       "      <th>min</th>\n",
       "      <td>1.00000</td>\n",
       "      <td>2.000000</td>\n",
       "      <td>1.000000</td>\n",
       "      <td>96.000000</td>\n",
       "      <td>2.000000</td>\n",
       "      <td>1.000000</td>\n",
       "      <td>1001.000000</td>\n",
       "      <td>0.000000</td>\n",
       "    </tr>\n",
       "    <tr>\n",
       "      <th>25%</th>\n",
       "      <td>2750.50000</td>\n",
       "      <td>3.000000</td>\n",
       "      <td>2.000000</td>\n",
       "      <td>169.000000</td>\n",
       "      <td>3.000000</td>\n",
       "      <td>4.000000</td>\n",
       "      <td>1839.500000</td>\n",
       "      <td>0.000000</td>\n",
       "    </tr>\n",
       "    <tr>\n",
       "      <th>50%</th>\n",
       "      <td>5500.00000</td>\n",
       "      <td>4.000000</td>\n",
       "      <td>3.000000</td>\n",
       "      <td>214.000000</td>\n",
       "      <td>3.000000</td>\n",
       "      <td>7.000000</td>\n",
       "      <td>4149.000000</td>\n",
       "      <td>1.000000</td>\n",
       "    </tr>\n",
       "    <tr>\n",
       "      <th>75%</th>\n",
       "      <td>8249.50000</td>\n",
       "      <td>5.000000</td>\n",
       "      <td>4.000000</td>\n",
       "      <td>251.000000</td>\n",
       "      <td>4.000000</td>\n",
       "      <td>10.000000</td>\n",
       "      <td>5050.000000</td>\n",
       "      <td>1.000000</td>\n",
       "    </tr>\n",
       "    <tr>\n",
       "      <th>max</th>\n",
       "      <td>10999.00000</td>\n",
       "      <td>7.000000</td>\n",
       "      <td>5.000000</td>\n",
       "      <td>310.000000</td>\n",
       "      <td>10.000000</td>\n",
       "      <td>65.000000</td>\n",
       "      <td>7846.000000</td>\n",
       "      <td>1.000000</td>\n",
       "    </tr>\n",
       "  </tbody>\n",
       "</table>\n",
       "</div>"
      ],
      "text/plain": [
       "                ID  Customer_care_calls  Customer_rating  Cost_of_the_Product  \\\n",
       "count  10999.00000         10999.000000     10999.000000         10999.000000   \n",
       "mean    5500.00000             4.054459         2.990545           210.196836   \n",
       "std     3175.28214             1.141490         1.413603            48.063272   \n",
       "min        1.00000             2.000000         1.000000            96.000000   \n",
       "25%     2750.50000             3.000000         2.000000           169.000000   \n",
       "50%     5500.00000             4.000000         3.000000           214.000000   \n",
       "75%     8249.50000             5.000000         4.000000           251.000000   \n",
       "max    10999.00000             7.000000         5.000000           310.000000   \n",
       "\n",
       "       Prior_purchases  Discount_offered  Weight_in_gms  Reached.on.Time_Y.N  \n",
       "count     10999.000000      10999.000000   10999.000000         10999.000000  \n",
       "mean          3.567597         13.373216    3634.016729             0.596691  \n",
       "std           1.522860         16.205527    1635.377251             0.490584  \n",
       "min           2.000000          1.000000    1001.000000             0.000000  \n",
       "25%           3.000000          4.000000    1839.500000             0.000000  \n",
       "50%           3.000000          7.000000    4149.000000             1.000000  \n",
       "75%           4.000000         10.000000    5050.000000             1.000000  \n",
       "max          10.000000         65.000000    7846.000000             1.000000  "
      ]
     },
     "execution_count": 18,
     "metadata": {},
     "output_type": "execute_result"
    }
   ],
   "source": [
    "df.describe()"
   ]
  },
  {
   "cell_type": "code",
   "execution_count": 3,
   "id": "ba0a1c7b",
   "metadata": {},
   "outputs": [
    {
     "name": "stdout",
     "output_type": "stream",
     "text": [
      "<class 'pandas.core.frame.DataFrame'>\n",
      "RangeIndex: 10999 entries, 0 to 10998\n",
      "Data columns (total 12 columns):\n",
      " #   Column               Non-Null Count  Dtype \n",
      "---  ------               --------------  ----- \n",
      " 0   ID                   10999 non-null  int64 \n",
      " 1   Warehouse_block      10999 non-null  object\n",
      " 2   Mode_of_Shipment     10999 non-null  object\n",
      " 3   Customer_care_calls  10999 non-null  int64 \n",
      " 4   Customer_rating      10999 non-null  int64 \n",
      " 5   Cost_of_the_Product  10999 non-null  int64 \n",
      " 6   Prior_purchases      10999 non-null  int64 \n",
      " 7   Product_importance   10999 non-null  object\n",
      " 8   Gender               10999 non-null  object\n",
      " 9   Discount_offered     10999 non-null  int64 \n",
      " 10  Weight_in_gms        10999 non-null  int64 \n",
      " 11  Reached.on.Time_Y.N  10999 non-null  int64 \n",
      "dtypes: int64(8), object(4)\n",
      "memory usage: 1.0+ MB\n"
     ]
    }
   ],
   "source": [
    "df.info()"
   ]
  },
  {
   "cell_type": "code",
   "execution_count": 11,
   "id": "1fc16aa6",
   "metadata": {},
   "outputs": [
    {
     "data": {
      "text/plain": [
       "Index(['ID', 'Warehouse_block', 'Mode_of_Shipment', 'Customer_care_calls',\n",
       "       'Customer_rating', 'Cost_of_the_Product', 'Prior_purchases',\n",
       "       'Product_importance', 'Gender', 'Discount_offered', 'Weight_in_gms',\n",
       "       'Reached.on.Time_Y.N'],\n",
       "      dtype='object')"
      ]
     },
     "execution_count": 11,
     "metadata": {},
     "output_type": "execute_result"
    }
   ],
   "source": [
    "df.columns"
   ]
  },
  {
   "cell_type": "code",
   "execution_count": 9,
   "id": "25208ffe",
   "metadata": {},
   "outputs": [
    {
     "data": {
      "text/plain": [
       "ID                     0\n",
       "Warehouse_block        0\n",
       "Mode_of_Shipment       0\n",
       "Customer_care_calls    0\n",
       "Customer_rating        0\n",
       "Cost_of_the_Product    0\n",
       "Prior_purchases        0\n",
       "Product_importance     0\n",
       "Gender                 0\n",
       "Discount_offered       0\n",
       "Weight_in_gms          0\n",
       "Reached.on.Time_Y.N    0\n",
       "dtype: int64"
      ]
     },
     "execution_count": 9,
     "metadata": {},
     "output_type": "execute_result"
    }
   ],
   "source": [
    "df.isnull().sum()\n",
    "#There is no mising value in the data"
   ]
  },
  {
   "cell_type": "code",
   "execution_count": 14,
   "id": "134e1300",
   "metadata": {},
   "outputs": [
    {
     "data": {
      "text/plain": [
       "ID                     10999\n",
       "Warehouse_block        10999\n",
       "Mode_of_Shipment       10999\n",
       "Customer_care_calls    10999\n",
       "Customer_rating        10999\n",
       "Cost_of_the_Product    10999\n",
       "Prior_purchases        10999\n",
       "Product_importance     10999\n",
       "Gender                 10999\n",
       "Discount_offered       10999\n",
       "Weight_in_gms          10999\n",
       "Reached.on.Time_Y.N    10999\n",
       "dtype: int64"
      ]
     },
     "execution_count": 14,
     "metadata": {},
     "output_type": "execute_result"
    }
   ],
   "source": [
    "df.notnull().sum()"
   ]
  },
  {
   "cell_type": "code",
   "execution_count": 17,
   "id": "180643fc",
   "metadata": {},
   "outputs": [
    {
     "data": {
      "text/plain": [
       "(10999, 12)"
      ]
     },
     "execution_count": 17,
     "metadata": {},
     "output_type": "execute_result"
    }
   ],
   "source": [
    "df.shape\n",
    "# There are 12 columns and 10999 rows"
   ]
  },
  {
   "cell_type": "markdown",
   "id": "deb40a9e",
   "metadata": {},
   "source": [
    "Basic Descriptive Statistics"
   ]
  },
  {
   "cell_type": "code",
   "execution_count": 56,
   "id": "d823a2d5",
   "metadata": {},
   "outputs": [
    {
     "name": "stdout",
     "output_type": "stream",
     "text": [
      "Approximated average customer rating: 3.0\n"
     ]
    }
   ],
   "source": [
    "# Average customer rating\n",
    "\n",
    "average_rating = df['Customer_rating'].mean()\n",
    "print(f\"Approximated average customer rating: {average_rating:.1f}\")\n",
    "\n"
   ]
  },
  {
   "cell_type": "code",
   "execution_count": 59,
   "id": "1ae4985a",
   "metadata": {},
   "outputs": [
    {
     "data": {
      "text/plain": [
       "Product_importance\n",
       "low       5297\n",
       "medium    4754\n",
       "high       948\n",
       "Name: count, dtype: int64"
      ]
     },
     "execution_count": 59,
     "metadata": {},
     "output_type": "execute_result"
    }
   ],
   "source": [
    "# Distribution of product importance\n",
    "df['Product_importance'].value_counts()\n"
   ]
  },
  {
   "cell_type": "code",
   "execution_count": 28,
   "id": "14d402f3",
   "metadata": {},
   "outputs": [
    {
     "data": {
      "text/plain": [
       "210.19683607600692"
      ]
     },
     "execution_count": 28,
     "metadata": {},
     "output_type": "execute_result"
    }
   ],
   "source": [
    "# Average cost of products\n",
    "df['Cost_of_the_Product'].mean()\n",
    "\n"
   ]
  },
  {
   "cell_type": "code",
   "execution_count": 24,
   "id": "aaa67720",
   "metadata": {},
   "outputs": [
    {
     "data": {
      "text/plain": [
       "13.37321574688608"
      ]
     },
     "execution_count": 24,
     "metadata": {},
     "output_type": "execute_result"
    }
   ],
   "source": [
    "# Average discount offered\n",
    "df['Discount_offered'].mean()\n"
   ]
  },
  {
   "cell_type": "markdown",
   "id": "225b1483",
   "metadata": {},
   "source": [
    " Visualization"
   ]
  },
  {
   "cell_type": "code",
   "execution_count": 53,
   "id": "f605b8fa",
   "metadata": {
    "scrolled": false
   },
   "outputs": [
    {
     "data": {
      "image/png": "[encoded data removed]",
      "text/plain": [
       "<Figure size 1000x600 with 1 Axes>"
      ]
     },
     "metadata": {},
     "output_type": "display_data"
    }
   ],
   "source": [
    "\n",
    "\n",
    "# Set the aesthetic style of the plots\n",
    "sns.set_style('dark')\n",
    "plt.figure(figsize=(10, 6))\n",
    "sns.countplot(x='Mode_of_Shipment', data=df)\n",
    "plt.title('Mode of Shipment Distribution')\n",
    "plt.xlabel('Mode of Shipment')\n",
    "plt.ylabel('count')\n",
    "plt.show()\n"
   ]
  },
  {
   "cell_type": "code",
   "execution_count": 35,
   "id": "3741a9eb",
   "metadata": {},
   "outputs": [
    {
     "data": {
      "image/png": "[encoded data removed]",
      "text/plain": [
       "<Figure size 1200x800 with 1 Axes>"
      ]
     },
     "metadata": {},
     "output_type": "display_data"
    }
   ],
   "source": [
    "# Distribution of Customer Ratings\n",
    "plt.figure(figsize=(12, 8))\n",
    "sns.histplot(df['Customer_rating'], bins=5, kde=True)\n",
    "plt.title('Customer Ratings Distribution')\n",
    "plt.xlabel('Customer_Rating')\n",
    "plt.ylabel('Frequency')\n",
    "plt.show()\n",
    "\n"
   ]
  },
  {
   "cell_type": "code",
   "execution_count": 44,
   "id": "9d66cb1a",
   "metadata": {},
   "outputs": [
    {
     "data": {
      "image/png": "[encoded data removed]",
      "text/plain": [
       "<Figure size 1000x600 with 1 Axes>"
      ]
     },
     "metadata": {},
     "output_type": "display_data"
    }
   ],
   "source": [
    "# Bar plot for Reached on Time by Mode of Shipment\n",
    "plt.figure(figsize=(10, 6))\n",
    "sns.barplot(x='Mode_of_Shipment', y='Reached.on.Time_Y.N', data=df)\n",
    "plt.title('On-Time Delivery by Mode of Shipment')\n",
    "plt.xlabel('Mode of Shipment')\n",
    "plt.ylabel('Proportion of On-Time Delivery')\n",
    "plt.show()\n",
    "\n"
   ]
  },
  {
   "cell_type": "code",
   "execution_count": 54,
   "id": "1ec725e1",
   "metadata": {},
   "outputs": [
    {
     "data": {
      "image/png": "[encoded data removed]",
      "text/plain": [
       "<Figure size 1000x600 with 1 Axes>"
      ]
     },
     "metadata": {},
     "output_type": "display_data"
    }
   ],
   "source": [
    "#Count plot for Product Importance\n",
    "plt.figure(figsize=(10, 6))\n",
    "sns.countplot(x='Product_importance', data=df)\n",
    "plt.title('Product Importance Distribution')\n",
    "plt.xlabel('Product Importance')\n",
    "plt.ylabel('Count')\n",
    "plt.show()"
   ]
  },
  {
   "cell_type": "markdown",
   "id": "eb53b748",
   "metadata": {},
   "source": [
    "# OBSERVATIONS"
   ]
  },
  {
   "cell_type": "markdown",
   "id": "97d9112c",
   "metadata": {},
   "source": [
    "* The international E_commerce company  datasets contain 12 columns and 10999 rows\n",
    "* There no missing data\n",
    "* The total average customers  rating was 3.00\n",
    "* Based on the insights,low has the highest volume of product parameters\n",
    "* The total average cost of products was 210\n",
    "* The highest mode of shipment is ship based on customers prefrence\n",
    "* The fastest mode of ship shipmet was flight and least was road\n",
    "\n"
   ]
  },
  {
   "cell_type": "markdown",
   "id": "cf8c3820",
   "metadata": {},
   "source": [
    "#*RECOMMENDATIONS"
   ]
  },
  {
   "cell_type": "markdown",
   "id": "f59b09a1",
   "metadata": {},
   "source": [
    "\n",
    "Recommendations Based on Insights\n",
    "Based on the insights we gathered from the analysis, we can make some recommendations.\n",
    "\n",
    "Improve Customer Satisfaction: The average customer rating should be closely monitored, and efforts should be made to improve customer satisfaction. Analyzing the reasons behind lower ratings can provide actionable insights.\n",
    "\n",
    "Optimize Shipment Methods: The company should analyze the cost-effectiveness and efficiency of different shipment modes. If one mode consistently leads to late deliveries, alternative shipping methods should be considered.\n",
    "\n",
    "Product Importance and Pricing Strategy: The cost of products varies significantly with their importance. The company can use this information to optimize pricing strategies and ensure that high-importance products are competitively priced.\n",
    "\n",
    "Discount Effectiveness: Evaluating the effectiveness of discounts offered can help in designing better promotional strategies. Understanding which products benefit most from discounts can lead to more targeted marketing efforts.\n",
    "\n",
    "Customer Care Improvements: By analyzing the number of customer care calls, the company can identify common issues faced by customers and work on reducing these through better communication and support mechanisms."
   ]
  },
  {
   "cell_type": "code",
   "execution_count": null,
   "id": "ce690f7b",
   "metadata": {},
   "outputs": [],
   "source": []
  }
 ],
 "metadata": {
  "kernelspec": {
   "display_name": "Python 3 (ipykernel)",
   "language": "python",
   "name": "python3"
  },
  "language_info": {
   "codemirror_mode": {
    "name": "ipython",
    "version": 3
   },
   "file_extension": ".py",
   "mimetype": "text/x-python",
   "name": "python",
   "nbconvert_exporter": "python",
   "pygments_lexer": "ipython3",
   "version": "3.11.5"
  }
 },
 "nbformat": 4,
 "nbformat_minor": 5
}
